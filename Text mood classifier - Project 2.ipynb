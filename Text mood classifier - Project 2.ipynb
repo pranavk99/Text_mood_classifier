{
 "cells": [
  {
   "cell_type": "code",
   "execution_count": 48,
   "id": "c2919012",
   "metadata": {},
   "outputs": [],
   "source": [
    "class Review: \n",
    "    def __init__(self, text, rating):\n",
    "        self.text = text\n",
    "        self.rating = rating\n",
    "        self.sentiment = self.get_sentiment()\n",
    "    \n",
    "    def get_sentiment(self):\n",
    "        if self.rating <= 2:\n",
    "            return(\"Negative\")\n",
    "        elif self.rating == 3: \n",
    "            return(\"Neutral\")\n",
    "        else:\n",
    "            return(\"Positive\")"
   ]
  },
  {
   "cell_type": "code",
   "execution_count": 68,
   "id": "6d1e6598",
   "metadata": {},
   "outputs": [],
   "source": [
    "import json\n",
    "filename = \"./Books_small.json\"\n",
    "total_review = []\n",
    "\n",
    "with open(filename) as f:\n",
    "    for line in f:\n",
    "        review = json.loads(line)\n",
    "        text = review[\"reviewText\"]\n",
    "        rating = review[\"overall\"]\n",
    "        total_review.append(Review(text, rating))\n",
    "        \n",
    "total_review[10].sentiment\n"
   ]
  },
  {
   "cell_type": "markdown",
   "id": "c1f0a1bd",
   "metadata": {},
   "source": [
    "Preperation of data - Splitting the data set for testing and training"
   ]
  },
  {
   "cell_type": "code",
   "execution_count": 50,
   "id": "b699a273",
   "metadata": {},
   "outputs": [],
   "source": [
    "from sklearn.model_selection import train_test_split\n",
    "train, test = train_test_split(total_review, test_size = 0.33, random_state = 42)\n",
    "\n",
    "#len(train)\n",
    "#len(test)"
   ]
  },
  {
   "cell_type": "code",
   "execution_count": 51,
   "id": "47c9f570",
   "metadata": {},
   "outputs": [],
   "source": [
    "# Adding the data into an array for ease of use. \n",
    "\n",
    "train_text = [x.text for x in train]\n",
    "train_rating = [x.sentiment for x in train]\n",
    "test_text = [x.text for x in test]\n",
    "test_rating = [x.sentiment for x in test]"
   ]
  },
  {
   "cell_type": "markdown",
   "id": "2f6b0426",
   "metadata": {},
   "source": [
    "Importing the sklearn bags of words algorithm"
   ]
  },
  {
   "cell_type": "code",
   "execution_count": 52,
   "id": "678a9bff",
   "metadata": {},
   "outputs": [],
   "source": [
    "from sklearn.feature_extraction.text import CountVectorizer\n",
    "vectorizer = CountVectorizer()\n",
    "training_data = vectorizer.fit_transform(train_text)\n",
    "test_vector_text = vectorizer.transform(test_text)\n",
    "\n",
    "# Now the 2 data columns we are looking at is Training Data which is the input to the model and train_rating\n",
    "# Which is the output to the model. Now we will go ahead and select the model for classification. "
   ]
  },
  {
   "cell_type": "markdown",
   "id": "be815866",
   "metadata": {},
   "source": [
    "### Selecting a model for classification. "
   ]
  },
  {
   "cell_type": "markdown",
   "id": "fbbb46ab",
   "metadata": {},
   "source": [
    "#### Linear SVM"
   ]
  },
  {
   "cell_type": "code",
   "execution_count": 79,
   "id": "a3f29a58",
   "metadata": {},
   "outputs": [
    {
     "data": {
      "text/plain": [
       "array(['Neutral'], dtype='<U8')"
      ]
     },
     "execution_count": 79,
     "metadata": {},
     "output_type": "execute_result"
    }
   ],
   "source": [
    "from sklearn import svm\n",
    "\n",
    "Clf_svc = svm.SVC(kernel = 'linear')\n",
    "Clf_svc.fit(training_data, train_rating)\n",
    "\n",
    "Clf_svc.predict(test_vector_text[132])"
   ]
  },
  {
   "cell_type": "markdown",
   "id": "1e9bda7f",
   "metadata": {},
   "source": [
    "#### Decision Tree"
   ]
  },
  {
   "cell_type": "code",
   "execution_count": 78,
   "id": "8109d84f",
   "metadata": {},
   "outputs": [
    {
     "name": "stdout",
     "output_type": "stream",
     "text": [
      "I enjoyed the first two books in this series.  Nothing earth shattering, but an enjoyable, casual read..  I also bought the audible versions so I could listen on the go.  Got to the 3rd book and ... it isn't complete - I mean, it just ... stops.  So basically, you get 2 stories that are pretty decent then a longish series of chapters with an author's note at the end that there is more to come (after you shell out more $$ of course.)  If you want resolutions to a number of plot lines, you have buy book 4.  There doesn't seem to be an expected date for that installment.I expect, at this price ($23 + audio), to find a beginning, middle and end to EACH book, not a bait and switch for the next installment.  This made me so mad that I returned the book to Amazon - which I have never done before. I say steer clear - very poorly done.\n"
     ]
    },
    {
     "data": {
      "text/plain": [
       "array(['Positive'], dtype='<U8')"
      ]
     },
     "execution_count": 78,
     "metadata": {},
     "output_type": "execute_result"
    }
   ],
   "source": [
    "from sklearn.tree import DecisionTreeClassifier\n",
    "\n",
    "clf_des = DecisionTreeClassifier(random_state=0)\n",
    "clf_des.fit(training_data, train_rating)\n",
    "print(test_text[132])\n",
    "\n",
    "clf_des.predict(test_vector_text[132])"
   ]
  },
  {
   "cell_type": "markdown",
   "id": "5560c176",
   "metadata": {},
   "source": [
    "#### Naive Bias"
   ]
  },
  {
   "cell_type": "code",
   "execution_count": 73,
   "id": "8a8d9f2a",
   "metadata": {},
   "outputs": [
    {
     "ename": "AttributeError",
     "evalue": "'list' object has no attribute 'toarray'",
     "output_type": "error",
     "traceback": [
      "\u001b[1;31m---------------------------------------------------------------------------\u001b[0m",
      "\u001b[1;31mAttributeError\u001b[0m                            Traceback (most recent call last)",
      "\u001b[1;32m<ipython-input-73-06a8a9a266ae>\u001b[0m in \u001b[0;36m<module>\u001b[1;34m\u001b[0m\n\u001b[0;32m      1\u001b[0m \u001b[1;32mfrom\u001b[0m \u001b[0msklearn\u001b[0m\u001b[1;33m.\u001b[0m\u001b[0mnaive_bayes\u001b[0m \u001b[1;32mimport\u001b[0m \u001b[0mGaussianNB\u001b[0m\u001b[1;33m\u001b[0m\u001b[1;33m\u001b[0m\u001b[0m\n\u001b[0;32m      2\u001b[0m \u001b[0mclf_nb\u001b[0m \u001b[1;33m=\u001b[0m \u001b[0mGaussianNB\u001b[0m\u001b[1;33m(\u001b[0m\u001b[1;33m)\u001b[0m\u001b[1;33m\u001b[0m\u001b[1;33m\u001b[0m\u001b[0m\n\u001b[1;32m----> 3\u001b[1;33m \u001b[0mclf_nb\u001b[0m\u001b[1;33m.\u001b[0m\u001b[0mfit\u001b[0m\u001b[1;33m(\u001b[0m\u001b[0mtraining_data\u001b[0m\u001b[1;33m.\u001b[0m\u001b[0mtoarray\u001b[0m\u001b[1;33m(\u001b[0m\u001b[1;33m)\u001b[0m\u001b[1;33m,\u001b[0m \u001b[0mtrain_rating\u001b[0m\u001b[1;33m.\u001b[0m\u001b[0mtoarray\u001b[0m\u001b[1;33m(\u001b[0m\u001b[1;33m)\u001b[0m\u001b[1;33m)\u001b[0m\u001b[1;33m\u001b[0m\u001b[1;33m\u001b[0m\u001b[0m\n\u001b[0m\u001b[0;32m      4\u001b[0m \u001b[0mclf_nb\u001b[0m\u001b[1;33m.\u001b[0m\u001b[0mpredict\u001b[0m\u001b[1;33m(\u001b[0m\u001b[0mtest_vector_text\u001b[0m\u001b[1;33m[\u001b[0m\u001b[1;36m0\u001b[0m\u001b[1;33m]\u001b[0m\u001b[1;33m)\u001b[0m\u001b[1;33m\u001b[0m\u001b[1;33m\u001b[0m\u001b[0m\n",
      "\u001b[1;31mAttributeError\u001b[0m: 'list' object has no attribute 'toarray'"
     ]
    }
   ],
   "source": [
    "from sklearn.naive_bayes import GaussianNB\n",
    "clf_nb = GaussianNB()\n",
    "clf_nb.fit(training_data.toarray(), train_rating.toarray())\n",
    "clf_nb.predict(test_vector_text[0])"
   ]
  },
  {
   "cell_type": "markdown",
   "id": "49e86cde",
   "metadata": {},
   "source": [
    "#### Seeing how svm works"
   ]
  },
  {
   "cell_type": "code",
   "execution_count": 66,
   "id": "aff91f19",
   "metadata": {},
   "outputs": [
    {
     "name": "stdout",
     "output_type": "stream",
     "text": [
      "0.8242424242424242\n",
      "0.7696969696969697\n"
     ]
    }
   ],
   "source": [
    "# Accuracy\n",
    "print(Clf_svc.score(test_vector_text, test_rating))\n",
    "print(clf_des.score(test_vector_text, test_rating))"
   ]
  },
  {
   "cell_type": "code",
   "execution_count": 70,
   "id": "7295c244",
   "metadata": {},
   "outputs": [
    {
     "data": {
      "text/plain": [
       "numpy.ndarray"
      ]
     },
     "execution_count": 70,
     "metadata": {},
     "output_type": "execute_result"
    }
   ],
   "source": []
  },
  {
   "cell_type": "code",
   "execution_count": null,
   "id": "cc82bdcb",
   "metadata": {},
   "outputs": [],
   "source": []
  }
 ],
 "metadata": {
  "kernelspec": {
   "display_name": "Python 3",
   "language": "python",
   "name": "python3"
  },
  "language_info": {
   "codemirror_mode": {
    "name": "ipython",
    "version": 3
   },
   "file_extension": ".py",
   "mimetype": "text/x-python",
   "name": "python",
   "nbconvert_exporter": "python",
   "pygments_lexer": "ipython3",
   "version": "3.8.8"
  }
 },
 "nbformat": 4,
 "nbformat_minor": 5
}
